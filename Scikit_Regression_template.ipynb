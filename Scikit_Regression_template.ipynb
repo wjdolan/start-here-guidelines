{
  "nbformat": 4,
  "nbformat_minor": 0,
  "metadata": {
    "colab": {
      "name": "Scikit_Regression_template.ipynb",
      "provenance": [],
      "authorship_tag": "ABX9TyNo9NXRGuXWErKs1Mxu1vt+",
      "include_colab_link": true
    },
    "kernelspec": {
      "name": "python3",
      "display_name": "Python 3"
    },
    "language_info": {
      "name": "python"
    }
  },
  "cells": [
    {
      "cell_type": "markdown",
      "metadata": {
        "id": "view-in-github",
        "colab_type": "text"
      },
      "source": [
        "<a href=\"https://colab.research.google.com/github/wjdolan/start-here-guidelines/blob/master/Scikit_Regression_template.ipynb\" target=\"_parent\"><img src=\"https://colab.research.google.com/assets/colab-badge.svg\" alt=\"Open In Colab\"/></a>"
      ]
    },
    {
      "cell_type": "code",
      "metadata": {
        "id": "HUlhK01c6SVV"
      },
      "source": [
        "# Read in the  data\n",
        "#car_sales = pd.read_csv(\"\")\n",
        "\n",
        "# View the first 5 rows of the  data\n",
        "#car_sales.head()"
      ],
      "execution_count": null,
      "outputs": []
    },
    {
      "cell_type": "code",
      "metadata": {
        "id": "v2BwYJsn6bxS"
      },
      "source": [
        "# Get information about the DataFrame\n",
        "#car_sales.info()"
      ],
      "execution_count": null,
      "outputs": []
    },
    {
      "cell_type": "code",
      "metadata": {
        "id": "Sf2Rs-TQ6bz7"
      },
      "source": [
        "# Find number of missing values in each column\n",
        "#car_sales.isna().sum()"
      ],
      "execution_count": null,
      "outputs": []
    },
    {
      "cell_type": "code",
      "metadata": {
        "id": "V4_R8ksq6nOr"
      },
      "source": [
        "# Find the datatypes of each column \n",
        "#car_sales.dtypes"
      ],
      "execution_count": null,
      "outputs": []
    },
    {
      "cell_type": "code",
      "metadata": {
        "id": "2m-uBbFE6nRM"
      },
      "source": [
        "# Remove rows with no labels (NaN's in the Price column)\n",
        "#car_sales.dropna(subset=[\"Price\"], inplace=True)"
      ],
      "execution_count": null,
      "outputs": []
    },
    {
      "cell_type": "code",
      "metadata": {
        "id": "qnwcDAed6nT7"
      },
      "source": [
        "# Import Pipeline from sklearn's pipeline module\n",
        "#from sklearn.pipeline import Pipeline\n",
        "\n",
        "# Import ColumnTransformer from sklearn's compose module\n",
        "#from sklearn.compose import ColumnTransformer\n",
        "\n",
        "# Import SimpleImputer from sklearn's impute module\n",
        "#from sklearn.impute import SimpleImputer\n",
        "\n",
        "# Import OneHotEncoder from sklearn's preprocessing module\n",
        "#from sklearn.preprocessing import OneHotEncoder\n",
        "\n",
        "# Import train_test_split from sklearn's model_selection module\n",
        "#from sklearn.model_selection import train_test_split"
      ],
      "execution_count": null,
      "outputs": []
    },
    {
      "cell_type": "code",
      "metadata": {
        "id": "6up3IUdY6b2n"
      },
      "source": [
        "# Define different categorical features \n",
        "#categorical_features = [\"Make\", \"Colour\"]\n",
        "\n",
        "# Create categorical transformer Pipeline\n",
        "#categorical_transformer = Pipeline(steps=[\n",
        "    # Set SimpleImputer strategy to \"constant\" and fill value to \"missing\"\n",
        "   # (\"imputer\", SimpleImputer(strategy=\"constant\", fill_value=\"missing\")),\n",
        "    # Set OneHotEncoder to ignore the unknowns\n",
        "   # (\"onehot\", OneHotEncoder(handle_unknown=\"ignore\"))])"
      ],
      "execution_count": null,
      "outputs": []
    },
    {
      "cell_type": "code",
      "metadata": {
        "id": "1mq0V1Hr62Ld"
      },
      "source": [
        "# Define Doors features\n",
        "#door_feature = [\"Doors\"]\n",
        "\n",
        "# Create Doors transformer Pipeline\n",
        "#door_transformer = Pipeline(steps=[\n",
        "    # Set SimpleImputer strategy to \"constant\" and fill value to 4\n",
        "  #  (\"imputer\", SimpleImputer(strategy=\"constant\", fill_value=4))])"
      ],
      "execution_count": null,
      "outputs": []
    },
    {
      "cell_type": "code",
      "metadata": {
        "id": "NHOEoPgG62Nt"
      },
      "source": [
        "# Define numeric features (only the Odometer (KM) column)\n",
        "#numeric_features = [\"Odometer (KM)\"]\n",
        "\n",
        "# Crearte numeric transformer Pipeline\n",
        "#numeric_transformer = Pipeline(steps=[\n",
        "    # Set SimpleImputer strategy to fill missing values with the \"Median\"\n",
        "  #  (\"imputer\", SimpleImputer(strategy=\"median\"))])"
      ],
      "execution_count": null,
      "outputs": []
    },
    {
      "cell_type": "code",
      "metadata": {
        "id": "vCvO6kt162QZ"
      },
      "source": [
        "# Setup preprocessing steps (fill missing values, then convert to numbers)\n",
        "#preprocessor = ColumnTransformer(\n",
        " #   transformers=[\n",
        "        # Use the categorical_transformer to transform the categorical_features\n",
        "  #      (\"cat\", categorical_transformer, categorical_features),\n",
        "        # Use the door_transformer to transform the door_feature\n",
        "   #     (\"door\", door_transformer, door_feature),\n",
        "        # Use the numeric_transformer to transform the numeric_features\n",
        "    #    (\"num\", numeric_transformer, numeric_features)])"
      ],
      "execution_count": null,
      "outputs": []
    },
    {
      "cell_type": "code",
      "metadata": {
        "id": "er84Jrr57JxA"
      },
      "source": [
        "# Import Ridge from sklearn's linear_model module\n",
        "#from sklearn.linear_model import Ridge\n",
        "\n",
        "# Import SVR from sklearn's svm module\n",
        "#from sklearn.svm import SVR\n",
        "\n",
        "# Import RandomForestRegressor from sklearn's ensemble module\n",
        "#from sklearn.ensemble import RandomForestRegressor"
      ],
      "execution_count": null,
      "outputs": []
    },
    {
      "cell_type": "code",
      "metadata": {
        "id": "g4vxHqks7JzT"
      },
      "source": [
        "# Create dictionary of model instances, there should be 4 total key, value pairs\n",
        "# in the form {\"model_name\": model_instance}.\n",
        "# Don't forget there's two versions of SVR, one with a \"linear\" kernel and the\n",
        "# other with kernel set to \"rbf\".\n",
        "#regression_models = {\"Ridge\": Ridge(),\n",
        " #                    \"SVR_linear\": SVR(kernel=\"linear\"),\n",
        " #                   \"SVR_rbf\": SVR(kernel=\"rbf\"),\n",
        "  #                   \"RandomForestRegressor\": RandomForestRegressor()}\n",
        "\n",
        "# Create an empty dictionary for the regression results\n",
        "#regression_results = {}"
      ],
      "execution_count": null,
      "outputs": []
    },
    {
      "cell_type": "code",
      "metadata": {
        "id": "TG-92RDU7J1x"
      },
      "source": [
        "# Create car sales X data (every column of car_sales except Price)\n",
        "#car_sales_X = car_sales.drop(\"Price\", axis=1)\n",
        "\n",
        "# Create car sales y data (the Price column of car_sales)\n",
        "#car_sales_y = car_sales[\"Price\"]"
      ],
      "execution_count": null,
      "outputs": []
    },
    {
      "cell_type": "code",
      "metadata": {
        "id": "CU6fIeVY7Tad"
      },
      "source": [
        "# Use train_test_split to split the car_sales_X and car_sales_y data into \n",
        "# training and test sets.\n",
        "# Give the test set 20% of the data using the test_size parameter.\n",
        "# For reproducibility set the random_state parameter to 42.\n",
        "#car_X_train, car_X_test, car_y_train, car_y_test = train_test_split(car_sales_X,\n",
        " #                                                                   car_sales_y,\n",
        "  #                                                                  test_size=0.2,\n",
        "   #                                                                 random_state=42)\n",
        "\n",
        "# Check the shapes of the training and test datasets\n",
        "#car_X_train.shape, car_X_test.shape, car_y_train.shape, car_y_test.shape"
      ],
      "execution_count": null,
      "outputs": []
    },
    {
      "cell_type": "code",
      "metadata": {
        "id": "kCVoLSRV7TdG"
      },
      "source": [
        "# Loop through the items in the regression_models dictionary\n",
        "#for model_name, model in regression_models.items():\n",
        "    \n",
        "    # Create a model pipeline with a preprocessor step and model step\n",
        " #   model_pipeline = Pipeline(steps=[(\"preprocessor\", preprocessor),\n",
        "   #                                   (\"model\", model)])\n",
        "    \n",
        "    # Fit the model pipeline to the car sales training data\n",
        "  #  print(f\"Fitting {model_name}...\")\n",
        "    #model_pipeline.fit(car_X_train, car_y_train)\n",
        "    \n",
        "    # Score the model pipeline on the test data appending the model_name to the \n",
        "    # results dictionary\n",
        "    #print(f\"Scoring {model_name}...\")\n",
        "    #regression_results[model_name] = model_pipeline.score(car_X_test, \n",
        "     #                                                     car_y_test)"
      ],
      "execution_count": null,
      "outputs": []
    },
    {
      "cell_type": "code",
      "metadata": {
        "id": "Mt_V476l7Tfo"
      },
      "source": [
        "# Check the results of each regression model by printing the regression_results\n",
        "# dictionary\n",
        "#regression_results"
      ],
      "execution_count": null,
      "outputs": []
    },
    {
      "cell_type": "code",
      "metadata": {
        "id": "RqHztGkh7kgT"
      },
      "source": [
        "# Import mean_absolute_error from sklearn's metrics module\n",
        "#from sklearn.metrics import mean_absolute_error\n",
        "\n",
        "# Import mean_squared_error from sklearn's metrics module\n",
        "#from sklearn.metrics import mean_squared_error\n",
        "\n",
        "# Import r2_score from sklearn's metrics module\n",
        "#from sklearn.metrics import r2_score"
      ],
      "execution_count": null,
      "outputs": []
    },
    {
      "cell_type": "code",
      "metadata": {
        "id": "vO4oOaI07ki6"
      },
      "source": [
        "# Create RidgeRegression Pipeline with preprocessor as the \"preprocessor\" and\n",
        "# Ridge() as the \"model\".\n",
        "#ridge_pipeline = Pipeline(steps=[(\"preprocessor\", preprocessor),\n",
        " #                                (\"model\", Ridge())])\n",
        "\n",
        "# Fit the RidgeRegression Pipeline to the car sales training data\n",
        "#ridge_pipeline.fit(car_X_train, car_y_train)\n",
        "\n",
        "# Make predictions on the car sales test data using the RidgeRegression Pipeline\n",
        "#car_y_preds = ridge_pipeline.predict(car_X_test)\n",
        "\n",
        "# View the first 50 predictions\n",
        "#car_y_preds[:50]"
      ],
      "execution_count": null,
      "outputs": []
    },
    {
      "cell_type": "code",
      "metadata": {
        "id": "NOrggkGe7klr"
      },
      "source": [
        "# EXAMPLE: Find the MSE by comparing the car sales test labels to the car sales predictions\n",
        "#mse = mean_squared_error(car_y_test, car_y_preds)\n",
        "# Return the MSE\n",
        "#mse"
      ],
      "execution_count": null,
      "outputs": []
    },
    {
      "cell_type": "code",
      "metadata": {
        "id": "OczOGVzm7vH3"
      },
      "source": [
        "# Find the MAE by comparing the car sales test labels to the car sales predictions\n",
        "#mae =  mean_absolute_error(car_y_test, car_y_preds)\n",
        "# Return the MAE\n",
        "#mae"
      ],
      "execution_count": null,
      "outputs": []
    },
    {
      "cell_type": "code",
      "metadata": {
        "id": "mM_QDPyb7TiX"
      },
      "source": [
        "# Find the R^2 score by comparing the car sales test labels to the car sales predictions\n",
        "#r2 = r2_score(car_y_test, car_y_preds)\n",
        "# Return the R^2 score\n",
        "#r2"
      ],
      "execution_count": null,
      "outputs": []
    }
  ]
}